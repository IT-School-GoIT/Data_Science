{
  "nbformat": 4,
  "nbformat_minor": 0,
  "metadata": {
    "colab": {
      "provenance": []
    },
    "kernelspec": {
      "name": "python3",
      "display_name": "Python 3"
    },
    "language_info": {
      "name": "python"
    }
  },
  "cells": [
    {
      "cell_type": "code",
      "execution_count": 1,
      "metadata": {
        "colab": {
          "base_uri": "https://localhost:8080/"
        },
        "id": "hwv8n-K-bk3M",
        "outputId": "882430dc-c066-41b7-efbf-f6a69a2ac874"
      },
      "outputs": [
        {
          "output_type": "stream",
          "name": "stdout",
          "text": [
            "Requirement already satisfied: scikit-learn in /usr/local/lib/python3.10/dist-packages (1.3.2)\n",
            "Requirement already satisfied: numpy<2.0,>=1.17.3 in /usr/local/lib/python3.10/dist-packages (from scikit-learn) (1.26.4)\n",
            "Requirement already satisfied: scipy>=1.5.0 in /usr/local/lib/python3.10/dist-packages (from scikit-learn) (1.13.1)\n",
            "Requirement already satisfied: joblib>=1.1.1 in /usr/local/lib/python3.10/dist-packages (from scikit-learn) (1.4.2)\n",
            "Requirement already satisfied: threadpoolctl>=2.0.0 in /usr/local/lib/python3.10/dist-packages (from scikit-learn) (3.5.0)\n"
          ]
        }
      ],
      "source": [
        "pip install scikit-learn\n"
      ]
    },
    {
      "cell_type": "code",
      "source": [
        "import numpy as np\n",
        "from sklearn.linear_model import LinearRegression\n",
        "\n",
        "X = np.array([\n",
        "    [1, 1],\n",
        "    [1, 2],\n",
        "    [2, 2],\n",
        "    [2, 3]\n",
        "])\n",
        "\n",
        "y = np.dot(X, np.array([1, 2])) + 3\n",
        "\n",
        "regressor = LinearRegression().fit(X, y)\n",
        "\n",
        "print(regressor.predict(np.array([[3, 5]])))\n"
      ],
      "metadata": {
        "colab": {
          "base_uri": "https://localhost:8080/"
        },
        "id": "TUZh9Id3cCSp",
        "outputId": "767d190e-5e04-4052-f225-ca5f5548a0dd"
      },
      "execution_count": 2,
      "outputs": [
        {
          "output_type": "stream",
          "name": "stdout",
          "text": [
            "[16.]\n"
          ]
        }
      ]
    },
    {
      "cell_type": "code",
      "source": [
        "from sklearn.datasets import load_breast_cancer\n",
        "from sklearn.linear_model import RidgeClassifier\n",
        "X, y = load_breast_cancer(return_X_y=True)\n",
        "\n",
        "clf = RidgeClassifier(alpha=30.0).fit(X, y)\n",
        "clf.score(X, y)\n",
        "\n"
      ],
      "metadata": {
        "colab": {
          "base_uri": "https://localhost:8080/"
        },
        "id": "ybBlmvOSjxRY",
        "outputId": "a7b1ac38-3bbc-4570-b74d-8bbad94d7661"
      },
      "execution_count": 3,
      "outputs": [
        {
          "output_type": "execute_result",
          "data": {
            "text/plain": [
              "0.9543057996485061"
            ]
          },
          "metadata": {},
          "execution_count": 3
        }
      ]
    },
    {
      "cell_type": "code",
      "source": [
        "from sklearn.datasets import load_iris\n",
        "from sklearn.linear_model import LogisticRegression\n",
        "\n",
        "X, y = load_iris(return_X_y=True)\n",
        "clf = LogisticRegression(penalty=\"l1\", solver=\"liblinear\", random_state=0).fit(X, y)\n",
        "clf.predict(X[:2, :])\n",
        "\n",
        "clf.predict_proba(X[:2, :])\n",
        "\n",
        "clf.score(X, y)\n"
      ],
      "metadata": {
        "colab": {
          "base_uri": "https://localhost:8080/"
        },
        "id": "CjGb88ljkGCp",
        "outputId": "b27c717c-2e21-4943-9f7a-af7267641f33"
      },
      "execution_count": 4,
      "outputs": [
        {
          "output_type": "execute_result",
          "data": {
            "text/plain": [
              "0.96"
            ]
          },
          "metadata": {},
          "execution_count": 4
        }
      ]
    },
    {
      "cell_type": "code",
      "source": [
        "import numpy as np\n",
        "from sklearn.base import clone\n",
        "from sklearn.model_selection import StratifiedKFold\n",
        "from sklearn.datasets import fetch_openml\n",
        "from sklearn.linear_model import SGDClassifier\n",
        "\n",
        "mnist = fetch_openml(\"mnist_784\", version=1)\n",
        "X, y = mnist[\"data\"], mnist[\"target\"]\n",
        "y = y.astype(np.uint8)\n",
        "X_train, X_test, y_train, y_test = X[:60000], X[60000:], y[:60000], y[60000:]\n",
        "y_train_5 = (y_train == 5)\n",
        "\n",
        "y_test_5 = (y_test == 5)\n",
        "sgd_clf = SGDClassifier(random_state=42)\n",
        "\n",
        "# Додано shuffle=True\n",
        "skfolds = StratifiedKFold(n_splits=4, shuffle=True, random_state=42)\n",
        "\n",
        "for train_index, test_index in skfolds.split(X_train, y_train_5):\n",
        "    clone_clf = clone(sgd_clf)\n",
        "    X_train_folds = X_train.iloc[train_index]\n",
        "    y_train_folds = y_train_5.iloc[train_index]\n",
        "    X_test_fold = X_train.iloc[test_index]\n",
        "    y_test_fold = y_train_5.iloc[test_index]\n",
        "    clone_clf.fit(X_train_folds, y_train_folds)\n",
        "    y_pred = clone_clf.predict(X_test_fold)\n",
        "    n_correct = sum(y_pred == y_test_fold)\n",
        "    print(n_correct / len(y_pred))\n"
      ],
      "metadata": {
        "colab": {
          "base_uri": "https://localhost:8080/"
        },
        "id": "h3oUi6bxlMON",
        "outputId": "8dfdd46c-49f2-45c6-de70-2dd4722e2cb3"
      },
      "execution_count": 7,
      "outputs": [
        {
          "output_type": "stream",
          "name": "stderr",
          "text": [
            "/usr/local/lib/python3.10/dist-packages/sklearn/datasets/_openml.py:1022: FutureWarning: The default value of `parser` will change from `'liac-arff'` to `'auto'` in 1.4. You can set `parser='auto'` to silence this warning. Therefore, an `ImportError` will be raised from 1.4 if the dataset is dense and pandas is not installed. Note that the pandas parser may return different data types. See the Notes Section in fetch_openml's API doc for details.\n",
            "  warn(\n"
          ]
        },
        {
          "output_type": "stream",
          "name": "stdout",
          "text": [
            "0.9236\n",
            "0.9672666666666667\n",
            "0.9680666666666666\n",
            "0.969\n"
          ]
        }
      ]
    }
  ]
}